{
 "cells": [
  {
   "cell_type": "code",
   "execution_count": 1,
   "id": "ed506946",
   "metadata": {},
   "outputs": [],
   "source": [
    "from zipfile import ZipFile"
   ]
  },
  {
   "cell_type": "code",
   "execution_count": 2,
   "id": "b187b678",
   "metadata": {},
   "outputs": [],
   "source": [
    "cats = [\"ash\", \"cleo\", \"ellie\", \"salem\"]"
   ]
  },
  {
   "cell_type": "code",
   "execution_count": 3,
   "id": "db8637a1",
   "metadata": {},
   "outputs": [],
   "source": [
    "for cat in cats:\n",
    "    with ZipFile(f\"training_set/{cat}/{cat}.zip\", \"r\") as zObject:\n",
    "        zObject.extractall(path=f\"training_set/{cat}\")\n",
    "        \n",
    "zObject.close()"
   ]
  },
  {
   "cell_type": "code",
   "execution_count": null,
   "id": "8bb908a3",
   "metadata": {},
   "outputs": [],
   "source": []
  }
 ],
 "metadata": {
  "kernelspec": {
   "display_name": "ds-env",
   "language": "python",
   "name": "ds-env"
  },
  "language_info": {
   "codemirror_mode": {
    "name": "ipython",
    "version": 3
   },
   "file_extension": ".py",
   "mimetype": "text/x-python",
   "name": "python",
   "nbconvert_exporter": "python",
   "pygments_lexer": "ipython3",
   "version": "3.10.4"
  },
  "toc": {
   "base_numbering": 1,
   "nav_menu": {},
   "number_sections": true,
   "sideBar": true,
   "skip_h1_title": false,
   "title_cell": "Table of Contents",
   "title_sidebar": "Contents",
   "toc_cell": false,
   "toc_position": {},
   "toc_section_display": true,
   "toc_window_display": false
  }
 },
 "nbformat": 4,
 "nbformat_minor": 5
}
